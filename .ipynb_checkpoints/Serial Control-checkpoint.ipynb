{
 "cells": [
  {
   "cell_type": "code",
   "execution_count": 30,
   "metadata": {},
   "outputs": [],
   "source": [
    "from time import sleep\n",
    "import serial"
   ]
  },
  {
   "cell_type": "markdown",
   "metadata": {},
   "source": [
    "### Connects to the right serial port\n",
    "Tries every serial port until it connects to the right one."
   ]
  },
  {
   "cell_type": "code",
   "execution_count": 31,
   "metadata": {},
   "outputs": [
    {
     "name": "stdout",
     "output_type": "stream",
     "text": [
      "Connected to device at /dev/ttyACM3\n"
     ]
    }
   ],
   "source": [
    "ser = None\n",
    "connected = False\n",
    "for port in range(4):\n",
    "    try:\n",
    "        ser = serial.Serial('/dev/ttyACM%d' % port, 9600) # Establish the connection on a specific port\n",
    "        connected = True\n",
    "        print(\"Connected to device at /dev/ttyACM%d\" % port)\n",
    "        break\n",
    "    except:\n",
    "        continue\n",
    "if not connected:\n",
    "    print(\"Failed to connect\")"
   ]
  },
  {
   "cell_type": "markdown",
   "metadata": {},
   "source": [
    "### Begin communication"
   ]
  },
  {
   "cell_type": "code",
   "execution_count": 32,
   "metadata": {},
   "outputs": [],
   "source": [
    "KEY = b\"$\\r\\n\""
   ]
  },
  {
   "cell_type": "code",
   "execution_count": 33,
   "metadata": {},
   "outputs": [
    {
     "name": "stdout",
     "output_type": "stream",
     "text": [
      "b'..Found host.\\r\\n'\n",
      "b'++++++++++++++++++++++++\\r\\n'\n",
      "b'Allda Prototyping System\\r\\n'\n",
      "b'(c) 2021 Allda\\r\\n'\n",
      "b'Authors: Zachary Pitcher and Catherine Zeng\\r\\n'\n",
      "b'$\\r\\n'\n"
     ]
    }
   ],
   "source": [
    "ser.write(KEY)\n",
    "instr = b\"\"\n",
    "while instr != KEY:\n",
    "    instr = ser.readline()\n",
    "    print(instr)"
   ]
  },
  {
   "cell_type": "markdown",
   "metadata": {},
   "source": [
    "### Encoding Scheme\n",
    "\n",
    "C100050_C200050_C300050_D000\n",
    "\n",
    "- The first digit after S is a number from 0-9 describing the speed of tapping.\n",
    "- The two digits after F describe the number of taps that we want.\n",
    "- The three \"c1\", \"c2\", \"c3\" describe the pressure for each of the three channels"
   ]
  },
  {
   "cell_type": "markdown",
   "metadata": {},
   "source": [
    "The position dictionary shows how much pressure each channel has to have in order to achieve the relevant degree."
   ]
  },
  {
   "cell_type": "code",
   "execution_count": 34,
   "metadata": {},
   "outputs": [],
   "source": [
    "MAX = 15000\n",
    "\n",
    "POS_DICTIONARY = {\n",
    "    \"soft-center\": (0, 0, 0),\n",
    "    \"hard-center\": (MAX, MAX, MAX),\n",
    "    0: (0, MAX, 0),\n",
    "    30: (MAX, MAX, 0),\n",
    "    60: (MAX, 0, 0),\n",
    "    90: (MAX, 0, MAX),\n",
    "    120: (0, 0, MAX),\n",
    "    150: (0, MAX, MAX)\n",
    "}"
   ]
  },
  {
   "cell_type": "code",
   "execution_count": 35,
   "metadata": {},
   "outputs": [],
   "source": [
    "'''\n",
    "pos is an angle that's a multiple of 30 degrees.\n",
    "frequency is the number of taps that you want.\n",
    "delay is the delay in microseconds \n",
    "'''\n",
    "def moveDildo(degree, delay=10):\n",
    "    ch1, ch2, ch3 = POS_DICTIONARY[degree]\n",
    "    \n",
    "    channels_string = \"C1%05d\" % ch1\n",
    "    channels_string += \"C2%05d\" % ch2\n",
    "    channels_string += \"C3%05d\" % ch3\n",
    "\n",
    "    delay_string = \"D%03d\" % delay\n",
    "    \n",
    "    code = channels_string + delay_string\n",
    "    code += \"\\r\\n\"\n",
    "    ser.write(str.encode(code))\n",
    "    \n",
    "    instr = b\"\"\n",
    "    result = \"\"\n",
    "       \n",
    "    while instr != KEY:\n",
    "        instr = ser.readline()\n",
    "        result += instr.decode(\"utf-8\")\n",
    "    \n",
    "    return result"
   ]
  },
  {
   "cell_type": "code",
   "execution_count": 39,
   "metadata": {},
   "outputs": [],
   "source": [
    "for i in {0, 30, 60, 90, 120, 150}:\n",
    "    moveDildo(i, 10)"
   ]
  },
  {
   "cell_type": "code",
   "execution_count": null,
   "metadata": {},
   "outputs": [],
   "source": []
  }
 ],
 "metadata": {
  "kernelspec": {
   "display_name": "Python 3",
   "language": "python",
   "name": "python3"
  },
  "language_info": {
   "codemirror_mode": {
    "name": "ipython",
    "version": 3
   },
   "file_extension": ".py",
   "mimetype": "text/x-python",
   "name": "python",
   "nbconvert_exporter": "python",
   "pygments_lexer": "ipython3",
   "version": "3.8.5"
  }
 },
 "nbformat": 4,
 "nbformat_minor": 4
}
