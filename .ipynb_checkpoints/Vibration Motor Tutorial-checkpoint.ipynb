{
 "cells": [
  {
   "cell_type": "code",
   "execution_count": 1,
   "metadata": {},
   "outputs": [],
   "source": [
    "from time import sleep\n",
    "import serial"
   ]
  },
  {
   "cell_type": "code",
   "execution_count": 27,
   "metadata": {},
   "outputs": [
    {
     "name": "stdout",
     "output_type": "stream",
     "text": [
      "Connected to device at /dev/ttyUSB0\n"
     ]
    }
   ],
   "source": [
    "ser = None\n",
    "connected = False\n",
    "for port in range(8):\n",
    "    try:\n",
    "        ser = serial.Serial('/dev/ttyUSB%d' % port, 115200) # Establish the connection on a specific port\n",
    "        connected = True\n",
    "        print(\"Connected to device at /dev/ttyUSB%d\" % port)\n",
    "        break\n",
    "    except:\n",
    "        continue\n",
    "if not connected:\n",
    "    print(\"Failed to connect\")"
   ]
  },
  {
   "cell_type": "code",
   "execution_count": 11,
   "metadata": {},
   "outputs": [],
   "source": [
    "def set_vibration_analog(v0=0, v1=0, v2=0, v3=0, v4=0):\n",
    "    v0 = int(min(max(0, v0), 99))\n",
    "    v1 = int(min(max(0, v1), 99))\n",
    "    v2 = int(min(max(0, v2), 99))\n",
    "    v3 = int(min(max(0, v3), 99))\n",
    "    v4 = int(min(max(0, v4), 99))\n",
    "    ser.write(b\"V0%02d_V1%02d_V2%02d_V3%02d_V4%02d\\n\" \\\n",
    "              % (v0, v1, v2, v3, v4))\n",
    "\n",
    "def set_vibration_digital(v0_bool, v1_bool, v2_bool, v3_bool, v4_bool):\n",
    "    v0 = 99 if v0_bool else 0\n",
    "    v1 = 99 if v1_bool else 0\n",
    "    v2 = 99 if v2_bool else 0\n",
    "    v3 = 99 if v3_bool else 0\n",
    "    v4 = 99 if v4_bool else 0\n",
    "    ser.write(b\"V0%02d_V1%02d_V2%02d_V3%02d_V4%02d\\n\" \\\n",
    "              % (v0, v1, v2, v3, v4))\n",
    "\n",
    "def stop_vibration():\n",
    "    set_vibration_analog()\n",
    "\n",
    "def sequence_vibration(seq=\"stop\"):\n",
    "    if seq == \"pulse-all\":\n",
    "        for i in range(10):\n",
    "            set_vibration(v0=99, v1=99, v2=99, v3=99)\n",
    "    \n",
    "    "
   ]
  },
  {
   "cell_type": "code",
   "execution_count": 28,
   "metadata": {},
   "outputs": [],
   "source": [
    "set_vibration()"
   ]
  }
 ],
 "metadata": {
  "kernelspec": {
   "display_name": "Python 3",
   "language": "python",
   "name": "python3"
  },
  "language_info": {
   "codemirror_mode": {
    "name": "ipython",
    "version": 3
   },
   "file_extension": ".py",
   "mimetype": "text/x-python",
   "name": "python",
   "nbconvert_exporter": "python",
   "pygments_lexer": "ipython3",
   "version": "3.8.5"
  }
 },
 "nbformat": 4,
 "nbformat_minor": 4
}
