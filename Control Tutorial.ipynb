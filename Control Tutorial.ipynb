{
 "cells": [
  {
   "cell_type": "code",
   "execution_count": 89,
   "metadata": {},
   "outputs": [],
   "source": [
    "from time import sleep\n",
    "import serial"
   ]
  },
  {
   "cell_type": "markdown",
   "metadata": {},
   "source": [
    "## Connects to the right serial port\n",
    "Tries every serial port until it connects to the right one.\n",
    "\n",
    "The following code blow is important for connecting the python script to the arduino."
   ]
  },
  {
   "cell_type": "code",
   "execution_count": 94,
   "metadata": {},
   "outputs": [
    {
     "name": "stdout",
     "output_type": "stream",
     "text": [
      "Connected to device at /dev/ttyACM4\n"
     ]
    }
   ],
   "source": [
    "ser = None\n",
    "connected = False\n",
    "for port in range(8):\n",
    "    try:\n",
    "        ser = serial.Serial('/dev/ttyACM%d' % port, 9600) # Establish the connection on a specific port\n",
    "        connected = True\n",
    "        print(\"Connected to device at /dev/ttyACM%d\" % port)\n",
    "        break\n",
    "    except:\n",
    "        continue\n",
    "if not connected:\n",
    "    print(\"Failed to connect\")"
   ]
  },
  {
   "cell_type": "markdown",
   "metadata": {},
   "source": [
    "## Begin communication"
   ]
  },
  {
   "cell_type": "markdown",
   "metadata": {},
   "source": [
    "Run the following code to initialize the serial connection key and ensure that it's connected."
   ]
  },
  {
   "cell_type": "code",
   "execution_count": 95,
   "metadata": {},
   "outputs": [],
   "source": [
    "KEY = b\"$\\r\\n\""
   ]
  },
  {
   "cell_type": "code",
   "execution_count": 96,
   "metadata": {},
   "outputs": [
    {
     "name": "stdout",
     "output_type": "stream",
     "text": [
      "b'\\r\\n'\n",
      "b\"Send a '$' to begin communication.\\r\\n\"\n",
      "b'Waiting for host....Found host.\\r\\n'\n",
      "b'++++++++++++++++++++++++\\r\\n'\n",
      "b'Allda Prototyping System\\r\\n'\n",
      "b'(c) 2021 Allda\\r\\n'\n",
      "b'Authors: Zachary Pitcher and Catherine Zeng\\r\\n'\n",
      "b'$\\r\\n'\n"
     ]
    }
   ],
   "source": [
    "ser.write(KEY)\n",
    "instr = b\"\"\n",
    "while instr != KEY:\n",
    "    instr = ser.readline()\n",
    "    print(instr)"
   ]
  },
  {
   "cell_type": "markdown",
   "metadata": {},
   "source": [
    "## Encoding Scheme\n",
    "\n",
    "***What the arduino reads is a string \"C100050C200050C300050D000\"***\n",
    "\n",
    "(written below with underscores so that it's easier to read)\n",
    "\n",
    "C100050_C200050_C300050_D000\n",
    "\n",
    "- The three \"c1\", \"c2\", \"c3\" describe the pressure from a scale of 0-15000 for each of the three channels\n",
    "- The D figure describes the delay. ***This should not be lower than 15 or else the device may risk damage.***"
   ]
  },
  {
   "cell_type": "markdown",
   "metadata": {},
   "source": [
    "The `MAX` and `MIN` variables denote the pressure range."
   ]
  },
  {
   "cell_type": "code",
   "execution_count": 97,
   "metadata": {},
   "outputs": [],
   "source": [
    "MAX = 15000\n",
    "MIN = 0"
   ]
  },
  {
   "cell_type": "markdown",
   "metadata": {},
   "source": [
    "## moveDildoPos\n",
    "Moves the Dildo to a position"
   ]
  },
  {
   "cell_type": "code",
   "execution_count": 98,
   "metadata": {},
   "outputs": [],
   "source": [
    "'''\n",
    "This function takes a vector tuple argument and optional delay argument and moves the dildo to that location.\n",
    "Example input:\n",
    "moveDildoPos((MAX, 0, 0), 25)\n",
    "'''\n",
    "def moveDildoPos(vector, delay=20):\n",
    "    ch1, ch2, ch3 = vector\n",
    "    \n",
    "    channels_string = \"C1%05d\" % ch1\n",
    "    channels_string += \"C2%05d\" % ch2\n",
    "    channels_string += \"C3%05d\" % ch3\n",
    "\n",
    "    delay_string = \"D%03d\" % delay\n",
    "    \n",
    "    code = channels_string + delay_string\n",
    "    code += \"\\r\\n\"\n",
    "    ser.write(str.encode(code))\n",
    "    \n",
    "    instr = b\"\"\n",
    "    result = \"\"\n",
    "       \n",
    "    while instr != KEY:\n",
    "        instr = ser.readline()\n",
    "        result += instr.decode(\"utf-8\")\n",
    "    \n",
    "    return result"
   ]
  },
  {
   "cell_type": "code",
   "execution_count": 127,
   "metadata": {},
   "outputs": [],
   "source": [
    "def resetDildo():\n",
    "    moveDildoPos((0, 0, 0), 30)"
   ]
  },
  {
   "cell_type": "markdown",
   "metadata": {},
   "source": [
    "### Test cases for move DildoPos"
   ]
  },
  {
   "cell_type": "code",
   "execution_count": 138,
   "metadata": {},
   "outputs": [
    {
     "data": {
      "text/plain": [
       "'$\\r\\n'"
      ]
     },
     "execution_count": 138,
     "metadata": {},
     "output_type": "execute_result"
    }
   ],
   "source": [
    "# change your command here to see what happens\n",
    "moveDildoPos((0, 0, MAX), 30)"
   ]
  },
  {
   "cell_type": "code",
   "execution_count": 129,
   "metadata": {},
   "outputs": [],
   "source": [
    "resetDildo()"
   ]
  },
  {
   "cell_type": "markdown",
   "metadata": {},
   "source": [
    "## moveDildoDegree\n",
    "For a set number of degrees, this will move the dildo to that degree location."
   ]
  },
  {
   "cell_type": "code",
   "execution_count": 101,
   "metadata": {},
   "outputs": [],
   "source": [
    "POS_DICTIONARY = {\n",
    "    \"soft-center\": (0, 0, 0),\n",
    "    \"hard-center\": (MAX, MAX, MAX),\n",
    "    0: (0, MAX, 0),\n",
    "    30: (MAX, MAX, 0),\n",
    "    60: (MAX, 0, 0),\n",
    "    90: (MAX, 0, MAX),\n",
    "    120: (0, 0, MAX),\n",
    "    150: (0, MAX, MAX)\n",
    "}"
   ]
  },
  {
   "cell_type": "code",
   "execution_count": 102,
   "metadata": {},
   "outputs": [],
   "source": [
    "'''\n",
    "pos is an angle that's a multiple of 30 degrees.\n",
    "frequency is the number of taps that you want.\n",
    "delay is the delay in microseconds \n",
    "'''\n",
    "def moveDildoDegree(degree, delay=20):\n",
    "    ch1, ch2, ch3 = POS_DICTIONARY[degree]\n",
    "    \n",
    "    channels_string = \"C1%05d\" % ch1\n",
    "    channels_string += \"C2%05d\" % ch2\n",
    "    channels_string += \"C3%05d\" % ch3\n",
    "\n",
    "    delay_string = \"D%03d\" % delay\n",
    "    \n",
    "    code = channels_string + delay_string\n",
    "    code += \"\\r\\n\"\n",
    "    ser.write(str.encode(code))\n",
    "    \n",
    "    instr = b\"\"\n",
    "    result = \"\"\n",
    "       \n",
    "    while instr != KEY:\n",
    "        instr = ser.readline()\n",
    "        result += instr.decode(\"utf-8\")\n",
    "    \n",
    "    return result"
   ]
  },
  {
   "cell_type": "code",
   "execution_count": 133,
   "metadata": {},
   "outputs": [],
   "source": [
    "def swingDildo():\n",
    "    for i in {0, 30, 60, 90, 120, 150, 0}:\n",
    "        moveDildoDegree(i)\n",
    "    resetDildo()"
   ]
  },
  {
   "cell_type": "code",
   "execution_count": 134,
   "metadata": {},
   "outputs": [
    {
     "data": {
      "text/plain": [
       "'$\\r\\n'"
      ]
     },
     "execution_count": 134,
     "metadata": {},
     "output_type": "execute_result"
    }
   ],
   "source": [
    "moveDildoDegree(30)"
   ]
  },
  {
   "cell_type": "code",
   "execution_count": 135,
   "metadata": {},
   "outputs": [],
   "source": [
    "swingDildo()"
   ]
  },
  {
   "cell_type": "markdown",
   "metadata": {},
   "source": [
    "## Pulse\n",
    "This will pulse the dildo, getting it hard and then soft for a number of times."
   ]
  },
  {
   "cell_type": "code",
   "execution_count": 136,
   "metadata": {},
   "outputs": [],
   "source": [
    "def pulseDildo(pulseNumber):\n",
    "    for i in range(pulseNumber):\n",
    "        moveDildoPos((0, 0, 0))\n",
    "        moveDildoPos((MAX, MAX, MAX))\n",
    "    moveDildoPos((0, 0, 0))"
   ]
  },
  {
   "cell_type": "code",
   "execution_count": 137,
   "metadata": {},
   "outputs": [],
   "source": [
    "pulseDildo(5)"
   ]
  }
 ],
 "metadata": {
  "kernelspec": {
   "display_name": "Python 3",
   "language": "python",
   "name": "python3"
  },
  "language_info": {
   "codemirror_mode": {
    "name": "ipython",
    "version": 3
   },
   "file_extension": ".py",
   "mimetype": "text/x-python",
   "name": "python",
   "nbconvert_exporter": "python",
   "pygments_lexer": "ipython3",
   "version": "3.8.5"
  }
 },
 "nbformat": 4,
 "nbformat_minor": 4
}
