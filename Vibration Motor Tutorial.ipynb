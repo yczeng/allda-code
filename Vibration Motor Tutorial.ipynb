{
 "cells": [
  {
   "cell_type": "code",
   "execution_count": 42,
   "metadata": {},
   "outputs": [],
   "source": [
    "from time import sleep\n",
    "import serial\n",
    "import random"
   ]
  },
  {
   "cell_type": "markdown",
   "metadata": {},
   "source": [
    "# Connect to the Arduino\n",
    "This Arduino (Arduino Nano) always connects as '/dev/ttyUSB#'"
   ]
  },
  {
   "cell_type": "code",
   "execution_count": 27,
   "metadata": {},
   "outputs": [
    {
     "name": "stdout",
     "output_type": "stream",
     "text": [
      "Connected to device at /dev/ttyUSB0\n"
     ]
    }
   ],
   "source": [
    "ser = None\n",
    "connected = False# Connect to the Arduino\n",
    "This Arduino (Metro Mini) always connects as '/dev/ttyUSB#'\n",
    "for port in range(8):\n",
    "    try:\n",
    "        ser = serial.Serial('/dev/ttyUSB%d' % port, 115200) # Establish the connection on a specific port\n",
    "        connected = True\n",
    "        print(\"Connected to device at /dev/ttyUSB%d\" % port)\n",
    "        break\n",
    "    except:\n",
    "        continue\n",
    "if not connected:\n",
    "    print(\"Failed to connect\")"
   ]
  },
  {
   "cell_type": "markdown",
   "metadata": {},
   "source": [
    "# Controlling the Vibration Motors\n",
    "These are several high-level functions that can be used to send commands to the Arduino and control the vibration motors.\n",
    "\n",
    "The Arduino code has support for analog motor control (0-99 values of power, 0 being fully off and 99 being on at full power), but the motors used in the test setup are digital, i.e. they only have two states, off and on at full power. Therefore, two functions, *set_vibration_analog* and *set_vibration_digital* are provided to control different types of vibration motors, but the Arduino code should be able to handle both.\n",
    "\n",
    "*stop_vibration* is provided for convenience and just stops all vibration motors.\n",
    "\n",
    "Several high-level vibration sequences are provided through the *sequence_vibration* function, including:\n",
    "- **\"pulseall\"** - pulses all vibration motors simultaneously\n",
    "- **\"train\"** - does a sweep over all the vibration motors in order\n",
    "- **\"random\"** - produce random vibes, like a \"hum\" at shorter delays\n",
    "- **\"accel\"** - accelerate pulses from a slow rate to faster rate\n",
    "- **\"decel\"** - decelerate pulses from a fast rate to slower rate\n",
    "\n",
    "In order to initiate a sequence, call *sequence_vibration* with the name of the sequence (*seq*), delay between steps in the sequence (*delay*), and repetitions of the sequence (*reps*).\n",
    "\n",
    "Alternatively, you can call the overloaded functions *play_{seq}* to play the corresponding sequence with given *delay* and *reps* parameters."
   ]
  },
  {
   "cell_type": "code",
   "execution_count": 64,
   "metadata": {},
   "outputs": [],
   "source": [
    "def set_vibration_analog(v0=0, v1=0, v2=0, v3=0, v4=0):\n",
    "    v0 = int(min(max(0, v0), 99))\n",
    "    v1 = int(min(max(0, v1), 99))\n",
    "    v2 = int(min(max(0, v2), 99))\n",
    "    v3 = int(min(max(0, v3), 99))\n",
    "    v4 = int(min(max(0, v4), 99))\n",
    "    ser.write(b\"V0%02d_V1%02d_V2%02d_V3%02d_V4%02d\\n\" \\\n",
    "              % (v0, v1, v2, v3, v4))\n",
    "\n",
    "def set_vibration_digital(v0_bool, v1_bool, v2_bool, v3_bool, v4_bool):\n",
    "    v0 = 99 if v0_bool else 0\n",
    "    v1 = 99 if v1_bool else 0\n",
    "    v2 = 99 if v2_bool else 0\n",
    "    v3 = 99 if v3_bool else 0\n",
    "    v4 = 99 if v4_bool else 0\n",
    "    ser.write(b\"V0%02d_V1%02d_V2%02d_V3%02d_V4%02d\\n\" \\\n",
    "              % (v0, v1, v2, v3, v4))\n",
    "\n",
    "def stop_vibration():\n",
    "    set_vibration_digital(0, 0, 0, 0, 0)\n",
    "\n",
    "def sequence_vibration(seq, delay=0.1, reps=10):\n",
    "    if seq == \"pulseall\":\n",
    "        for i in range(reps):\n",
    "            stop_vibration()\n",
    "            sleep(delay)\n",
    "            set_vibration_digital(1, 1, 1, 1, 1)\n",
    "            sleep(delay)\n",
    "        stop_vibration()\n",
    "    \n",
    "    if seq == \"train\":\n",
    "        for i in range(reps):\n",
    "            set_vibration_digital(1, 0, 0, 0, 0)\n",
    "            sleep(delay)\n",
    "            set_vibration_digital(1, 1, 0, 0, 0)\n",
    "            sleep(delay)\n",
    "            set_vibration_digital(0, 1, 1, 0, 0)\n",
    "            sleep(delay)\n",
    "            set_vibration_digital(0, 0, 1, 1, 0)\n",
    "            sleep(delay)\n",
    "            set_vibration_digital(0, 0, 0, 1, 1)\n",
    "            sleep(delay)\n",
    "            set_vibration_digital(0, 0, 0, 0, 1)\n",
    "            sleep(delay)\n",
    "        stop_vibration()\n",
    "    \n",
    "    if seq == \"random\":\n",
    "        for i in range(reps):\n",
    "            set_vibration_analog(\n",
    "                v0=int(100*random.random()),\n",
    "                v1=int(100*random.random()),\n",
    "                v2=int(100*random.random()),\n",
    "                v3=int(100*random.random()),\n",
    "                v4=int(100*random.random()))\n",
    "            sleep(delay)\n",
    "        stop_vibration()\n",
    "    \n",
    "    if seq == \"accel\":\n",
    "        for i in range(reps):\n",
    "            stop_vibration()\n",
    "            sleep((reps-i)*delay)\n",
    "            set_vibration_digital(1, 1, 1, 1, 1)\n",
    "            sleep((reps-i)*delay)\n",
    "        sleep(delay)\n",
    "        stop_vibration()\n",
    "    \n",
    "    if seq == \"decel\":\n",
    "        for i in range(reps):\n",
    "            stop_vibration()\n",
    "            sleep(i*delay)\n",
    "            set_vibration_digital(1, 1, 1, 1, 1)\n",
    "            sleep(i*delay)\n",
    "        sleep(delay)\n",
    "        stop_vibration()\n",
    "    \n",
    "def play_pulseall(delay, reps):\n",
    "    sequence_vibration(\"pulseall\", delay=delay, reps=reps)\n",
    "\n",
    "def play_train(delay, reps):\n",
    "    sequence_vibration(\"train\", delay=delay, reps=reps)\n",
    "    \n",
    "def play_random(delay, reps):\n",
    "    sequence_vibration(\"random\", delay=delay, reps=reps)\n",
    "    \n",
    "def play_accel(delay, reps):\n",
    "    sequence_vibration(\"accel\", delay=delay, reps=reps)\n",
    "    \n",
    "def play_decel(delay, reps):\n",
    "    sequence_vibration(\"decel\", delay=delay, reps=reps)"
   ]
  },
  {
   "cell_type": "code",
   "execution_count": 61,
   "metadata": {},
   "outputs": [],
   "source": [
    "play_pulseall(0.1, 10)"
   ]
  },
  {
   "cell_type": "code",
   "execution_count": 62,
   "metadata": {},
   "outputs": [],
   "source": [
    "play_train(0.1, 10)"
   ]
  },
  {
   "cell_type": "code",
   "execution_count": 55,
   "metadata": {},
   "outputs": [],
   "source": [
    "play_random(0.05, 10)"
   ]
  },
  {
   "cell_type": "code",
   "execution_count": 65,
   "metadata": {},
   "outputs": [],
   "source": [
    "play_accel(0.01, 25)"
   ]
  },
  {
   "cell_type": "code",
   "execution_count": 66,
   "metadata": {},
   "outputs": [],
   "source": [
    "play_decel(0.01, 25)"
   ]
  },
  {
   "cell_type": "markdown",
   "metadata": {},
   "source": [
    "# Sample Usage\n",
    "This is a run-through of an example session of commands that might be sent to the Arduino to control the vibration motors.\n",
    "\n",
    "It starts out with a pulse-train of vibrations at a moderate tempo,\n",
    "then accelerates to a much faster pace. The vibration motors then all pulse simultaneously at this quick pace for a while, and eventually mix it up with random pulses for another period. Finally, the vibration decelerates and eventually stops."
   ]
  },
  {
   "cell_type": "code",
   "execution_count": 68,
   "metadata": {},
   "outputs": [],
   "source": [
    "# Sample Usage\n",
    "play_train(0.1, 20)  # do 20 sweeps\n",
    "play_accel(0.01, 20)  # accel pulses from 0.2s delay to 0.01s\n",
    "play_pulseall(0.04, 100)  # pulse all at fixed delay for 100 reps\n",
    "play_random(0.04, 100)  # random pulses for 100 more reps\n",
    "play_decel(0.01, 20)  # decel from 0.01s delay to 0.2s\n",
    "stop_vibration()"
   ]
  }
 ],
 "metadata": {
  "kernelspec": {
   "display_name": "Python 3",
   "language": "python",
   "name": "python3"
  },
  "language_info": {
   "codemirror_mode": {
    "name": "ipython",
    "version": 3
   },
   "file_extension": ".py",
   "mimetype": "text/x-python",
   "name": "python",
   "nbconvert_exporter": "python",
   "pygments_lexer": "ipython3",
   "version": "3.8.5"
  }
 },
 "nbformat": 4,
 "nbformat_minor": 4
}
